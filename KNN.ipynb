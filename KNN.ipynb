{
  "cells": [
    {
      "cell_type": "code",
      "execution_count": null,
      "metadata": {
        "id": "J2nQmran9EU-"
      },
      "outputs": [],
      "source": [
        "import matplotlib.pyplot as plt\n",
        "import numpy as np\n",
        "import pandas as pd\n",
        "from sklearn.model_selection import train_test_split\n",
        "from keras.datasets import mnist\n",
        "from matplotlib import pyplot\n",
        "from sklearn.neighbors import KNeighborsClassifier\n",
        "from sklearn.metrics import accuracy_score\n",
        "from collections import Counter"
      ]
    },
    {
      "cell_type": "code",
      "execution_count": null,
      "metadata": {
        "id": "uC_B7bx99Z_T"
      },
      "outputs": [],
      "source": [
        "(train_X, train_y), (test_X, test_y) = mnist.load_data()"
      ]
    },
    {
      "cell_type": "code",
      "execution_count": null,
      "metadata": {
        "id": "CrA9ikgK_3wO"
      },
      "outputs": [],
      "source": [
        "def imaged_grid(img , row , col ):\n",
        "  x , y = img.shape  \n",
        "  return (img.reshape ( x //row, row, -1, col)\n",
        "            .swapaxes(1,2)\n",
        "            .reshape(-1, row, col))\n",
        "def get_centroid(img,row,col):\n",
        "    feature_vector = []\n",
        "    for small_img in imaged_grid(img , row , col ) :\n",
        "        Xc = 0 \n",
        "        Yc = 0 \n",
        "        sum = 0\n",
        "        for index, x in np.ndenumerate(small_img):\n",
        "          sum+= x \n",
        "          Xc += x * index[0]\n",
        "          Yc += x * index[1]\n",
        "        if sum != 0 :\n",
        "            feature_vector.append( Xc/ sum )\n",
        "            feature_vector.append(Yc/ sum )\n",
        "        else :\n",
        "             feature_vector.append(0)\n",
        "             feature_vector.append(0)\n",
        "    return np.array(feature_vector)"
      ]
    },
    {
      "cell_type": "code",
      "execution_count": null,
      "metadata": {
        "id": "QDE3rMq_AAEE"
      },
      "outputs": [],
      "source": [
        "train_features = [get_centroid(img,4,4)  for img in train_X]\n",
        "train_features = np.array(train_features)\n",
        "test_features = [get_centroid(img,4,4)  for img in test_X]\n",
        "test_features = np.array(test_features)"
      ]
    },
    {
      "cell_type": "code",
      "source": [
        "class KNNClassifier:\n",
        "    def __init__(self, k):\n",
        "        self.k = k\n",
        "    def euclidean_distance(self, x1, x2):\n",
        "        return np.sqrt(np.sum((x1 - x2) ** 2))\n",
        "    def fit(self, X, y):\n",
        "        self.X_train = X\n",
        "        self.y_train = y \n",
        "    def predict(self, X):\n",
        "        y_pred = [self._predict(x) for x in X]\n",
        "        return np.array(y_pred)\n",
        "    def _predict(self, x):\n",
        "        distances = [self.euclidean_distance(x, x_train) for x_train in self.X_train]\n",
        "        k_indices = np.argsort(distances)[:self.k]\n",
        "        k_labels = [self.y_train[i] for i in k_indices]\n",
        "        most_common = Counter(k_labels).most_common(1)\n",
        "        return most_common[0][0]"
      ],
      "metadata": {
        "id": "GsebeUIXTZNc"
      },
      "execution_count": null,
      "outputs": []
    },
    {
      "cell_type": "code",
      "execution_count": null,
      "metadata": {
        "id": "Wg5Z2Fef_kes",
        "colab": {
          "base_uri": "https://localhost:8080/"
        },
        "outputId": "2f8d1d7d-05fc-451c-920d-042f38419e8b"
      },
      "outputs": [
        {
          "output_type": "stream",
          "name": "stdout",
          "text": [
            "Accuracy Score = 91.95 %\n"
          ]
        }
      ],
      "source": [
        "k = KNNClassifier(k=5)\n",
        "k.fit(train_features,train_y)\n",
        "p = k.predict(test_features)\n",
        "print(\"Accuracy Score =\", accuracy_score(test_y, p) * 100, \"%\")"
      ]
    }
  ],
  "metadata": {
    "colab": {
      "provenance": []
    },
    "kernelspec": {
      "display_name": "Python 3",
      "name": "python3"
    },
    "language_info": {
      "name": "python"
    }
  },
  "nbformat": 4,
  "nbformat_minor": 0
}